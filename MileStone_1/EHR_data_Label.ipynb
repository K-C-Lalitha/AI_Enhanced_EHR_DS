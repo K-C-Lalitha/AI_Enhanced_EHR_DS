{
  "nbformat": 4,
  "nbformat_minor": 0,
  "metadata": {
    "colab": {
      "provenance": []
    },
    "kernelspec": {
      "name": "python3",
      "display_name": "Python 3"
    },
    "language_info": {
      "name": "python"
    }
  },
  "cells": [
    {
      "cell_type": "markdown",
      "source": [
        "1.Load the dataset mount to *drive*"
      ],
      "metadata": {
        "id": "gaOKMpEe8XgL"
      }
    },
    {
      "cell_type": "code",
      "execution_count": null,
      "metadata": {
        "colab": {
          "base_uri": "https://localhost:8080/"
        },
        "id": "zwbjnuw9Ddih",
        "outputId": "1bf48083-bc4b-499f-8fa7-86729721ee18"
      },
      "outputs": [
        {
          "output_type": "stream",
          "name": "stdout",
          "text": [
            "Mounted at /content/drive\n"
          ]
        }
      ],
      "source": [
        "from google.colab import drive\n",
        "drive.mount('/content/drive')\n"
      ]
    },
    {
      "cell_type": "markdown",
      "source": [
        "**Load a Pretrained ResNet18 Model**\n",
        "\n",
        "Use a ResNet model trained on ImageNet as a feature extractor.\n",
        "\n",
        "Remove the final classification layer to get 512-dimensional feature vectors from each image.\n",
        "\n",
        "These vectors represent the visual characteristics of MRI slices.\n",
        "\n",
        "**Extract Image Features**\n",
        "\n",
        "For each patient’s MRI folder, load all image slices.\n",
        "\n",
        "Pass each slice through the ResNet model to obtain feature vectors.\n",
        "\n",
        "Average all slice-level vectors to get one feature vector per patient.\n",
        "\n",
        "**Combine with Structured EHR Data**\n",
        "\n",
        "Add numerical features such as age and gender to the MRI feature vector.\n",
        "\n",
        "This creates a richer patient representation.\n",
        "\n",
        "**Standardize Features**\n",
        "\n",
        "Normalize all features using StandardScaler so that every feature contributes equally to clustering.\n",
        "\n",
        "**Cluster Patients (KMeans)**\n",
        "\n",
        "Apply KMeans clustering to group patients based on their combined MRI and EHR features.\n",
        "\n",
        "\n",
        "**Assign Disease Labels**\n",
        "\n",
        "After inspecting the clusters, manually map each cluster to a disease name using a dictionary."
      ],
      "metadata": {
        "id": "1QBdeuIt8T7C"
      }
    },
    {
      "cell_type": "code",
      "source": [
        "\n",
        "import os\n",
        "import numpy as np\n",
        "import pandas as pd\n",
        "import torch\n",
        "import torchvision.models as models\n",
        "import torchvision.transforms as transforms\n",
        "from PIL import Image\n",
        "from sklearn.cluster import KMeans\n",
        "from sklearn.preprocessing import StandardScaler\n",
        "from tqdm import tqdm\n",
        "\n",
        "device = torch.device(\"cuda\" if torch.cuda.is_available() else \"cpu\")\n",
        "resnet = models.resnet18(pretrained=True)\n",
        "resnet.fc = torch.nn.Identity()\n",
        "resnet = resnet.to(device)\n",
        "resnet.eval()\n",
        "\n",
        "transform = transforms.Compose([\n",
        "    transforms.Resize((224, 224)),\n",
        "    transforms.ToTensor(),\n",
        "    transforms.Normalize(mean=[0.485, 0.456, 0.406],\n",
        "                         std=[0.229, 0.224, 0.225])\n",
        "])\n",
        "\n",
        "\n",
        "def extract_features_from_folder(folder_path):\n",
        "    \"\"\"Extracts average ResNet features from all MRI slices in a folder.\"\"\"\n",
        "    features = []\n",
        "    if not os.path.exists(folder_path):\n",
        "        return np.zeros(512)\n",
        "\n",
        "    for file in os.listdir(folder_path):\n",
        "        if file.endswith(\".png\"):\n",
        "            img_path = os.path.join(folder_path, file)\n",
        "            try:\n",
        "                img = Image.open(img_path).convert(\"RGB\")\n",
        "                x = transform(img).unsqueeze(0).to(device)\n",
        "                with torch.no_grad():\n",
        "                    feat = resnet(x).cpu().numpy().flatten()\n",
        "                features.append(feat)\n",
        "            except Exception as e:\n",
        "                print(f\"Skipping {img_path}: {e}\")\n",
        "\n",
        "    if len(features) == 0:\n",
        "        return np.zeros(512)\n",
        "\n",
        "    return np.mean(features, axis=0)\n",
        "\n",
        "metadata_path = \"/content/drive/MyDrive/heart_mri_ct/cleaned_structured_ehr.csv\"\n",
        "df = pd.read_csv(metadata_path)\n",
        "\n",
        "base_path = \"/content/drive/MyDrive/heart_mri_ct/processed_mri_images\"\n",
        "df[\"folder_path\"] = df[\"folder_path\"].apply(lambda x: os.path.join(base_path, x))\n",
        "\n",
        "base_path = \"/content/drive/MyDrive/heart_mri_ct/processed_mri_images\"\n",
        "df[\"folder_path\"] = df[\"folder_path\"].apply(lambda x: os.path.join(base_path, x))\n",
        "\n",
        "all_features = []\n",
        "\n",
        "for idx, row in tqdm(df.iterrows(), total=len(df)):\n",
        "    folder = row[\"folder_path\"]\n",
        "    f_img = extract_features_from_folder(folder)\n",
        "\n",
        "    f_full = np.concatenate([f_img, [row[\"age\"], 1 if row[\"gender\"] == \"M\" else 0]])\n",
        "    all_features.append(f_full)\n",
        "\n",
        "\n",
        "X = np.array(all_features)\n",
        "\n",
        "scaler = StandardScaler()\n",
        "X_scaled = scaler.fit_transform(X)\n",
        "\n",
        "kmeans = KMeans(n_clusters=4, random_state=42, n_init=10)\n",
        "df[\"Cluster\"] = kmeans.fit_predict(X_scaled)\n",
        "\n",
        "\n",
        "cluster_to_disease = {\n",
        "    0: \"Cardiomyopathy\",\n",
        "    1: \"Myocardial_Infarction\",\n",
        "    2: \"Heart_Failure\",\n",
        "    3: \"Normal\"\n",
        "}\n",
        "\n",
        "df[\"Disease\"] = df[\"Cluster\"].map(cluster_to_disease)\n",
        "\n",
        "df = df.drop(columns=[\"Cluster\"])\n",
        "output_path = \"/content/drive/MyDrive/heart_mri_ct/final_labeled_patients.csv\"\n",
        "df.to_csv(output_path, index=False)\n",
        "\n",
        "print(\"\\n✅ Disease labels generated successfully!\")\n",
        "print(df.head())\n"
      ],
      "metadata": {
        "colab": {
          "base_uri": "https://localhost:8080/"
        },
        "id": "7k32BdZRE0v_",
        "outputId": "2d91ebfd-e8de-4d87-92a9-bc2866846d6b"
      },
      "execution_count": null,
      "outputs": [
        {
          "output_type": "stream",
          "name": "stderr",
          "text": [
            "/usr/local/lib/python3.12/dist-packages/torchvision/models/_utils.py:208: UserWarning: The parameter 'pretrained' is deprecated since 0.13 and may be removed in the future, please use 'weights' instead.\n",
            "  warnings.warn(\n",
            "/usr/local/lib/python3.12/dist-packages/torchvision/models/_utils.py:223: UserWarning: Arguments other than a weight enum or `None` for 'weights' are deprecated since 0.13 and may be removed in the future. The current behavior is equivalent to passing `weights=ResNet18_Weights.IMAGENET1K_V1`. You can also use `weights=ResNet18_Weights.DEFAULT` to get the most up-to-date weights.\n",
            "  warnings.warn(msg)\n",
            "100%|██████████| 150/150 [00:00<00:00, 2893.79it/s]"
          ]
        },
        {
          "output_type": "stream",
          "name": "stdout",
          "text": [
            "\n",
            "✅ Disease labels generated successfully!\n",
            "    patient_id  age gender modality  num_slices  \\\n",
            "0  Patient_001   74      F      MRI          84   \n",
            "1  Patient_002   40      M      MRI          79   \n",
            "2  Patient_003   80      M      MRI          77   \n",
            "3  Patient_004   41      F      MRI          72   \n",
            "4  Patient_005   46      M      MRI          57   \n",
            "\n",
            "                                         folder_path                Disease  \n",
            "0  /content/drive/MyDrive/heart_mri_ct/processed_...         Cardiomyopathy  \n",
            "1  /content/drive/MyDrive/heart_mri_ct/processed_...  Myocardial_Infarction  \n",
            "2  /content/drive/MyDrive/heart_mri_ct/processed_...                 Normal  \n",
            "3  /content/drive/MyDrive/heart_mri_ct/processed_...          Heart_Failure  \n",
            "4  /content/drive/MyDrive/heart_mri_ct/processed_...  Myocardial_Infarction  \n"
          ]
        },
        {
          "output_type": "stream",
          "name": "stderr",
          "text": [
            "\n"
          ]
        }
      ]
    },
    {
      "cell_type": "markdown",
      "source": [
        "**Save the Final Labeled Dataset**\n",
        "\n",
        "The resulting CSV includes all patients with an assigned disease label."
      ],
      "metadata": {
        "id": "mgWQ7dwu80Vf"
      }
    },
    {
      "cell_type": "code",
      "source": [
        "import pandas as pd\n",
        "\n",
        "input_csv = \"/content/drive/MyDrive/heart_mri_ct/final_labeled_patients.csv\"\n",
        "df = pd.read_csv(input_csv)\n",
        "\n",
        "ICD10_CODES = {\n",
        "    \"Cardiomyopathy\": \"I42\",\n",
        "    \"Myocardial_Infarction\": \"I21\",\n",
        "    \"Heart_Failure\": \"I50\",\n",
        "    \"Normal\": \"Z00\"\n",
        "}\n",
        "\n",
        "df[\"ICD10_Code\"] = df[\"Disease\"].map(ICD10_CODES)\n",
        "\n",
        "df[\"ICD10_Code\"].fillna(\"Unknown\", inplace=True)\n",
        "\n",
        "output_csv = \"/content/drive/MyDrive/heart_mri_ct/final_labeled_patients_with_icd10.csv\"\n",
        "df.to_csv(output_csv, index=False)\n",
        "\n",
        "print(\"✅ ICD-10 codes assigned successfully!\")\n",
        "print(df.head())\n"
      ],
      "metadata": {
        "id": "ADlBsp2MM6qN",
        "colab": {
          "base_uri": "https://localhost:8080/"
        },
        "outputId": "fc1753ef-b900-474b-de38-db377d511af5"
      },
      "execution_count": null,
      "outputs": [
        {
          "output_type": "stream",
          "name": "stdout",
          "text": [
            "✅ ICD-10 codes assigned successfully!\n",
            "    patient_id  age gender modality  num_slices  \\\n",
            "0  Patient_001   74      F      MRI          84   \n",
            "1  Patient_002   40      M      MRI          79   \n",
            "2  Patient_003   80      M      MRI          77   \n",
            "3  Patient_004   41      F      MRI          72   \n",
            "4  Patient_005   46      M      MRI          57   \n",
            "\n",
            "                                         folder_path                Disease  \\\n",
            "0  /content/drive/MyDrive/heart_mri_ct/processed_...         Cardiomyopathy   \n",
            "1  /content/drive/MyDrive/heart_mri_ct/processed_...  Myocardial_Infarction   \n",
            "2  /content/drive/MyDrive/heart_mri_ct/processed_...                 Normal   \n",
            "3  /content/drive/MyDrive/heart_mri_ct/processed_...          Heart_Failure   \n",
            "4  /content/drive/MyDrive/heart_mri_ct/processed_...  Myocardial_Infarction   \n",
            "\n",
            "  ICD10_Code  \n",
            "0        I42  \n",
            "1        I21  \n",
            "2        Z00  \n",
            "3        I50  \n",
            "4        I21  \n"
          ]
        },
        {
          "output_type": "stream",
          "name": "stderr",
          "text": [
            "/tmp/ipython-input-2308078589.py:19: FutureWarning: A value is trying to be set on a copy of a DataFrame or Series through chained assignment using an inplace method.\n",
            "The behavior will change in pandas 3.0. This inplace method will never work because the intermediate object on which we are setting values always behaves as a copy.\n",
            "\n",
            "For example, when doing 'df[col].method(value, inplace=True)', try using 'df.method({col: value}, inplace=True)' or df[col] = df[col].method(value) instead, to perform the operation inplace on the original object.\n",
            "\n",
            "\n",
            "  df[\"ICD10_Code\"].fillna(\"Unknown\", inplace=True)\n"
          ]
        }
      ]
    },
    {
      "cell_type": "code",
      "source": [],
      "metadata": {
        "id": "7nws4WX-TpIj"
      },
      "execution_count": null,
      "outputs": []
    }
  ]
}